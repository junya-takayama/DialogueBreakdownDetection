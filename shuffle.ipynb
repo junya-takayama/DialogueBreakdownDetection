{
 "cells": [
  {
   "cell_type": "code",
   "execution_count": 22,
   "metadata": {},
   "outputs": [],
   "source": [
    "import pandas as pd\n",
    "import numpy as np"
   ]
  },
  {
   "cell_type": "code",
   "execution_count": 41,
   "metadata": {},
   "outputs": [],
   "source": [
    "def undersample(df, shuffle=True):\n",
    "    label_unique = df.label.unique()\n",
    "    label_counts = df.label.value_counts()\n",
    "    n_min_label = label_counts.min()\n",
    "    df_undersampled = []\n",
    "    \n",
    "    for label in label_unique:\n",
    "        df_undersampled.append(df[df.label == label].sample(n_min_label))\n",
    "    \n",
    "    df_undersampled = pd.concat(df_undersampled)\n",
    "    \n",
    "    if shuffle: \n",
    "        return df_undersampled.sample(frac=1)\n",
    "    else:\n",
    "        return df_undersampled"
   ]
  },
  {
   "cell_type": "code",
   "execution_count": 42,
   "metadata": {},
   "outputs": [],
   "source": [
    "df = pd.read_csv(\"./data/maxpmi/data.csv\", index_col=0)"
   ]
  },
  {
   "cell_type": "code",
   "execution_count": 51,
   "metadata": {},
   "outputs": [],
   "source": [
    "np.random.seed(42)\n",
    "df_sampled = undersample(df)\n",
    "df_sampled.to_csv(\"./data/maxpmi/data_undersampled.csv\")"
   ]
  },
  {
   "cell_type": "code",
   "execution_count": null,
   "metadata": {},
   "outputs": [],
   "source": []
  }
 ],
 "metadata": {
  "kernelspec": {
   "display_name": "Python 3",
   "language": "python",
   "name": "python3"
  },
  "language_info": {
   "codemirror_mode": {
    "name": "ipython",
    "version": 3
   },
   "file_extension": ".py",
   "mimetype": "text/x-python",
   "name": "python",
   "nbconvert_exporter": "python",
   "pygments_lexer": "ipython3",
   "version": "3.7.7"
  }
 },
 "nbformat": 4,
 "nbformat_minor": 4
}
