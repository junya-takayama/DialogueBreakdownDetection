{
 "cells": [
  {
   "cell_type": "code",
   "execution_count": 1,
   "metadata": {},
   "outputs": [
    {
     "name": "stderr",
     "output_type": "stream",
     "text": [
      "Using TensorFlow backend.\n"
     ]
    }
   ],
   "source": [
    "from keras.models import Sequential\n",
    "import keras\n",
    "from keras.layers import Merge, LSTM, Dense,GRU, SimpleRNN, core\n",
    "from keras.preprocessing import sequence\n",
    "from keras.layers.wrappers import Bidirectional\n",
    "import numpy as np\n",
    "import pickle\n",
    "from sklearn.cluster import KMeans\n",
    "from sklearn.decomposition import PCA\n",
    "from sklearn.neighbors import KNeighborsClassifier\n",
    "from sklearn.svm import LinearSVC\n",
    "from pprint import pprint\n",
    "import sys\n",
    "from sklearn.externals import joblib\n",
    "from datetime import datetime as dt"
   ]
  },
  {
   "cell_type": "code",
   "execution_count": 10,
   "metadata": {
    "collapsed": true
   },
   "outputs": [],
   "source": [
    "class MLP:\n",
    "    def __init__(self):\n",
    "        clf = Sequential()\n",
    "        clf.add(Dense(200, activation='relu',input_shape=(400,)))\n",
    "        clf.add(core.Dropout(0.7))\n",
    "        clf.add(Dense(100, activation='relu'))\n",
    "        clf.add(core.Dropout(0.5))\n",
    "        clf.add(Dense(3, activation='softmax'))\n",
    "        #clf.add(core.Dropout(0.1))\n",
    "        clf.compile(loss='categorical_crossentropy',\n",
    "                        optimizer='adam',\n",
    "                        metrics = ['accuracy']\n",
    "                       )\n",
    "        self.clf = clf"
   ]
  },
  {
   "cell_type": "code",
   "execution_count": 3,
   "metadata": {
    "collapsed": true
   },
   "outputs": [],
   "source": [
    "datas = pickle.load(open(\"corpus.pickle\",\"rb\"))"
   ]
  },
  {
   "cell_type": "code",
   "execution_count": 4,
   "metadata": {
    "collapsed": true
   },
   "outputs": [],
   "source": [
    "train_user,train_system,train_labels = zip(*datas[\"clustering_feature\"][\"train\"])\n",
    "valid_user,valid_system,valid_labels = zip(*datas[\"clustering_feature\"][\"valid\"])"
   ]
  },
  {
   "cell_type": "code",
   "execution_count": 5,
   "metadata": {},
   "outputs": [
    {
     "data": {
      "text/plain": [
       "PCA(copy=True, iterated_power='auto', n_components=200, random_state=None,\n",
       "  svd_solver='auto', tol=0.0, whiten=False)"
      ]
     },
     "execution_count": 5,
     "metadata": {},
     "output_type": "execute_result"
    }
   ],
   "source": [
    "pca = PCA(n_components=200)\n",
    "pca.fit(np.r_[train_user,train_system])"
   ]
  },
  {
   "cell_type": "code",
   "execution_count": 7,
   "metadata": {},
   "outputs": [],
   "source": [
    "train_user_d = pca.transform(train_user)\n",
    "train_system_d = pca.transform(train_system)\n",
    "valid_user_d = pca.transform(valid_user)\n",
    "valid_system_d = pca.transform(valid_system)\n",
    "train_user_d /= np.linalg.norm(train_user_d)\n",
    "train_system_d /= np.linalg.norm(train_system_d)\n",
    "valid_user_d /= np.linalg.norm(valid_user_d)\n",
    "valid_system_d /= np.linalg.norm(valid_system_d)"
   ]
  },
  {
   "cell_type": "code",
   "execution_count": 8,
   "metadata": {},
   "outputs": [
    {
     "data": {
      "text/plain": [
       "array([[ -2.18488079e-03,  -3.76693457e-04,   4.01208394e-04, ...,\n",
       "         -2.78523318e-06,  -1.19592407e-06,  -1.00293900e-05],\n",
       "       [ -2.18488079e-03,  -3.76693457e-04,   4.01208394e-04, ...,\n",
       "         -2.78523318e-06,  -1.19592407e-06,  -1.00293900e-05],\n",
       "       [ -2.04007563e-03,  -5.02827365e-04,   6.09398796e-04, ...,\n",
       "         -4.81436230e-06,  -2.34310050e-05,  -1.55179378e-05],\n",
       "       ..., \n",
       "       [ -9.81983280e-05,   5.68061878e-04,   1.61877461e-03, ...,\n",
       "         -2.02701059e-05,  -3.83285973e-05,   1.03241204e-04],\n",
       "       [ -9.81983280e-05,   5.68061878e-04,   1.61877461e-03, ...,\n",
       "         -2.02701059e-05,  -3.83285973e-05,   1.03241204e-04],\n",
       "       [ -9.81983280e-05,   5.68061878e-04,   1.61877461e-03, ...,\n",
       "         -2.02701059e-05,  -3.83285973e-05,   1.03241204e-04]])"
      ]
     },
     "execution_count": 8,
     "metadata": {},
     "output_type": "execute_result"
    }
   ],
   "source": [
    "train_user_d"
   ]
  },
  {
   "cell_type": "code",
   "execution_count": 9,
   "metadata": {
    "collapsed": true
   },
   "outputs": [],
   "source": [
    "kmeans = KMeans(n_clusters=10)\n",
    "kmeans.fit(np.r_[train_user_d,valid_user_d])\n",
    "clusters = kmeans.labels_"
   ]
  },
  {
   "cell_type": "code",
   "execution_count": 11,
   "metadata": {
    "collapsed": true
   },
   "outputs": [],
   "source": [
    "clf = MLP().clf"
   ]
  },
  {
   "cell_type": "code",
   "execution_count": 12,
   "metadata": {},
   "outputs": [
    {
     "name": "stdout",
     "output_type": "stream",
     "text": [
      "Train on 81312 samples, validate on 1100 samples\n",
      "Epoch 1/9\n",
      "\r",
      "   32/81312 [..............................] - ETA: 108s - loss: 1.0985 - acc: 0.3438"
     ]
    },
    {
     "name": "stderr",
     "output_type": "stream",
     "text": [
      "/home/takayama/.local/lib/python3.5/site-packages/keras/models.py:837: UserWarning: The `nb_epoch` argument in `fit` has been renamed `epochs`.\n",
      "  warnings.warn('The `nb_epoch` argument in `fit` '\n"
     ]
    },
    {
     "name": "stdout",
     "output_type": "stream",
     "text": [
      "81312/81312 [==============================] - 3s - loss: 1.0511 - acc: 0.4569 - val_loss: 1.4327 - val_acc: 0.6691\n",
      "Epoch 2/9\n",
      "81312/81312 [==============================] - 3s - loss: 0.9932 - acc: 0.4963 - val_loss: 2.3624 - val_acc: 0.6718\n",
      "Epoch 3/9\n",
      "81312/81312 [==============================] - 3s - loss: 0.9813 - acc: 0.4985 - val_loss: 2.5080 - val_acc: 0.6755\n",
      "Epoch 4/9\n",
      "81312/81312 [==============================] - 3s - loss: 0.9756 - acc: 0.5015 - val_loss: 2.6416 - val_acc: 0.6845\n",
      "Epoch 5/9\n",
      "81312/81312 [==============================] - 3s - loss: 0.9713 - acc: 0.5062 - val_loss: 2.6519 - val_acc: 0.6900\n",
      "Epoch 6/9\n",
      "81312/81312 [==============================] - 3s - loss: 0.9678 - acc: 0.5071 - val_loss: 2.7437 - val_acc: 0.6927\n",
      "Epoch 7/9\n",
      "81312/81312 [==============================] - 3s - loss: 0.9656 - acc: 0.5106 - val_loss: 2.7480 - val_acc: 0.6973\n",
      "Epoch 8/9\n",
      "81312/81312 [==============================] - 3s - loss: 0.9633 - acc: 0.5110 - val_loss: 2.7291 - val_acc: 0.7100\n",
      "Epoch 9/9\n",
      "81312/81312 [==============================] - 3s - loss: 0.9629 - acc: 0.5116 - val_loss: 2.7655 - val_acc: 0.7000\n"
     ]
    }
   ],
   "source": [
    "history = clf.fit(np.c_[train_user_d, train_system_d], np.array(train_labels),\n",
    "                              batch_size=32, nb_epoch=9,\n",
    "                              validation_data=(np.c_[valid_user_d,valid_system_d], np.array(valid_labels)),shuffle=True)"
   ]
  },
  {
   "cell_type": "code",
   "execution_count": null,
   "metadata": {
    "collapsed": true
   },
   "outputs": [],
   "source": []
  }
 ],
 "metadata": {
  "kernelspec": {
   "display_name": "Python 3",
   "language": "python",
   "name": "python3"
  },
  "language_info": {
   "codemirror_mode": {
    "name": "ipython",
    "version": 3
   },
   "file_extension": ".py",
   "mimetype": "text/x-python",
   "name": "python",
   "nbconvert_exporter": "python",
   "pygments_lexer": "ipython3",
   "version": "3.5.2"
  }
 },
 "nbformat": 4,
 "nbformat_minor": 2
}
