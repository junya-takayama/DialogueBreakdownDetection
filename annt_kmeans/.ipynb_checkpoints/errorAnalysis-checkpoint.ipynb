{
 "cells": [
  {
   "cell_type": "code",
   "execution_count": 3,
   "metadata": {},
   "outputs": [],
   "source": [
    "import json\n",
    "import glob\n",
    "import numpy as np\n",
    "import yaml\n",
    "import matplotlib.pyplot as plt\n",
    "import seaborn as sns"
   ]
  },
  {
   "cell_type": "code",
   "execution_count": 4,
   "metadata": {},
   "outputs": [],
   "source": [
    "import pandas as pd"
   ]
  },
  {
   "cell_type": "code",
   "execution_count": 5,
   "metadata": {},
   "outputs": [],
   "source": [
    "from collections import Counter,OrderedDict"
   ]
  },
  {
   "cell_type": "code",
   "execution_count": 6,
   "metadata": {},
   "outputs": [],
   "source": [
    "def represent_odict(dumper, instance):\n",
    "     return dumper.represent_mapping(u'tag:yaml.org,2002:map', instance.items())\n",
    "\n",
    "yaml.add_representer(OrderedDict, represent_odict)\n",
    "\n",
    "def construct_odict(loader, node):\n",
    "    return OrderedDict(loader.construct_pairs(node))\n",
    "\n",
    "yaml.add_constructor(u'tag:yaml.org,2002:map', construct_odict)"
   ]
  },
  {
   "cell_type": "code",
   "execution_count": 7,
   "metadata": {},
   "outputs": [],
   "source": [
    "def ea(domain=\"DCM\",threshold=0.0,directory=\"\"):\n",
    "    results = {\n",
    "        'O':{'O':[],'T':[],'X':[]},\n",
    "        'T':{'O':[],'T':[],'X':[]},\n",
    "        'X':{'O':[],'T':[],'X':[]}\n",
    "    }\n",
    "    ref_paths = glob.glob(\"../dbdc3_jp_eval_allOs/\"+domain+\"/*.json\")\n",
    "    pred_paths = glob.glob(directory+domain+\"/*.json\")\n",
    "\n",
    "    refs = [json.load(open(ref)) for ref in ref_paths]\n",
    "    preds = [json.load(open(ref)) for ref in pred_paths]\n",
    "\n",
    "    refs = sorted(refs,key = lambda x: x['dialogue-id'])\n",
    "    preds = sorted(preds,key = lambda x: x['dialogue-id'])\n",
    "\n",
    "    for ref,pred in zip(refs,preds):\n",
    "        #print(\"------------dialogue-id :\",ref['dialogue-id'],\"------------\")\n",
    "        for i in range(0,len(ref['turns']),2):\n",
    "            labels = (\"O\",\"T\",\"X\")\n",
    "            user = \"\" if i == 0 else ref['turns'][i-1]['utterance']\n",
    "            system = ref['turns'][i]['utterance']\n",
    "            pred_dict = pred['turns'][int(i/2)]['labels'][0]\n",
    "\n",
    "            breakdown_pred = pred_dict['breakdown']\n",
    "            dist_pred = [pred_dict['prob-O'],pred_dict['prob-T'],pred_dict['prob-X']]\n",
    "            dist_pred = list(map(float,dist_pred))\n",
    "            dist_pred = [round(x,2) for x in dist_pred]\n",
    "            annts_all = ref['turns'][i]['annotations']\n",
    "            annts = [elem['breakdown'] for elem in annts_all]\n",
    "            count = Counter(annts)\n",
    "            dist_ref = np.array([count[label] for label in labels])\n",
    "            dist_ref = dist_ref / np.sum(dist_ref)\n",
    "\n",
    "            prob_O,prob_T,prob_X = dist_ref\n",
    "\n",
    "            if prob_O >= prob_T and prob_O >= prob_X and prob_O >= threshold:\n",
    "                breakdown_ref = \"O\"\n",
    "            elif prob_T >= prob_O and prob_T >= prob_X and prob_T >= threshold:\n",
    "                breakdown_ref =  \"T\"\n",
    "            elif prob_X >= prob_T and prob_X >= prob_O and prob_X >= threshold:\n",
    "                breakdown_ref =  \"X\"\n",
    "            else:\n",
    "                breakdown_ref =  \"O\"\n",
    "            dist_ref = [round(float(x),2) for x in dist_ref]\n",
    "            \n",
    "            \n",
    "            internal_result = OrderedDict([\n",
    "                ('dialogue-id',ref['dialogue-id']),\n",
    "                ('turn',i),\n",
    "                ('user',user),\n",
    "                ('system',system),\n",
    "                ('reference_proba', dist_ref),\n",
    "                ('predict_proba',dist_pred),\n",
    "                \n",
    "            ])\n",
    "            results[breakdown_ref][breakdown_pred].append(internal_result)\n",
    "    return results"
   ]
  },
  {
   "cell_type": "code",
   "execution_count": 8,
   "metadata": {},
   "outputs": [],
   "source": [
    "def ea_df(domain=\"DCM\",threshold=0.0,directory=\"./result/\"):\n",
    "    results = []\n",
    "    ref_paths = glob.glob(\"../dbdc3_jp_eval_allOs/\"+domain+\"/*.json\")\n",
    "    pred_paths = glob.glob(directory+domain+\"/*.json\")\n",
    "\n",
    "    refs = [json.load(open(ref)) for ref in ref_paths]\n",
    "    preds = [json.load(open(ref)) for ref in pred_paths]\n",
    "\n",
    "    refs = sorted(refs,key = lambda x: x['dialogue-id'])\n",
    "    preds = sorted(preds,key = lambda x: x['dialogue-id'])\n",
    "\n",
    "    for ref,pred in zip(refs,preds):\n",
    "        #print(\"------------dialogue-id :\",ref['dialogue-id'],\"------------\")\n",
    "        for i in range(0,len(ref['turns']),2):\n",
    "            labels = (\"O\",\"T\",\"X\")\n",
    "            user = \"\" if i == 0 else ref['turns'][i-1]['utterance']\n",
    "            system = ref['turns'][i]['utterance']\n",
    "            pred_dict = pred['turns'][int(i/2)]['labels'][0]\n",
    "\n",
    "            breakdown_pred = pred_dict['breakdown']\n",
    "            dist_pred = [pred_dict['prob-O'],pred_dict['prob-T'],pred_dict['prob-X']]\n",
    "            dist_pred = list(map(float,dist_pred))\n",
    "            dist_pred = [round(x,2) for x in dist_pred]\n",
    "            annts_all = ref['turns'][i]['annotations']\n",
    "            annts = [elem['breakdown'] for elem in annts_all]\n",
    "            count = Counter(annts)\n",
    "            dist_ref = np.array([count[label] for label in labels])\n",
    "            dist_ref = dist_ref / np.sum(dist_ref)\n",
    "\n",
    "            prob_O,prob_T,prob_X = dist_ref\n",
    "\n",
    "            if prob_O >= prob_T and prob_O >= prob_X and prob_O >= threshold:\n",
    "                breakdown_ref = \"O\"\n",
    "            elif prob_T >= prob_O and prob_T >= prob_X and prob_T >= threshold:\n",
    "                breakdown_ref =  \"T\"\n",
    "            elif prob_X >= prob_T and prob_X >= prob_O and prob_X >= threshold:\n",
    "                breakdown_ref =  \"X\"\n",
    "            else:\n",
    "                breakdown_ref =  \"O\"\n",
    "            dist_ref = [round(float(x),2) for x in dist_ref]\n",
    "            \n",
    "            \n",
    "            internal_result = OrderedDict([\n",
    "                ('domain',domain),\n",
    "                ('dialogue-id',ref['dialogue-id']),\n",
    "                ('turn',i),\n",
    "                ('user',user),\n",
    "                ('system',system),\n",
    "                ('annotation_dist', dist_ref),\n",
    "                ('pred_proba',dist_pred),\n",
    "                ('annotation_bd', breakdown_ref),\n",
    "                ('pred_bd', breakdown_pred)\n",
    "                \n",
    "            ])\n",
    "            results.append(internal_result)\n",
    "    return pd.DataFrame(results)"
   ]
  },
  {
   "cell_type": "code",
   "execution_count": 9,
   "metadata": {},
   "outputs": [],
   "source": [
    "def ea_df_all(threshold=0.0,opt=\"\",modelname=\"direct\",directory=\"./directory/\"):\n",
    "    import subprocess\n",
    "    import sys\n",
    "    #res = subprocess.run([\"python3\", \"evaluate.py\", str(opt),modelname],shell=False,stderr=subprocess.STDOUT)\n",
    "    #print(res)\n",
    "    return pd.concat([ea_df(\"DCM\",directory=directory),ea_df(\"DIT\",directory=directory),ea_df(\"IRS\",directory=directory)]).reindex()"
   ]
  },
  {
   "cell_type": "code",
   "execution_count": 10,
   "metadata": {},
   "outputs": [],
   "source": [
    "result_cnn = ea_df_all(directory=\"./cnn_submit/\")\n",
    "result_lstm = ea_df_all(directory=\"./lstm_submit/\")\n",
    "result_ens = ea_df_all(directory=\"./ens_submit/\")"
   ]
  },
  {
   "cell_type": "code",
   "execution_count": 11,
   "metadata": {},
   "outputs": [
    {
     "data": {
      "text/plain": [
       "176443"
      ]
     },
     "execution_count": 11,
     "metadata": {},
     "output_type": "execute_result"
    }
   ],
   "source": [
    "open(\"./CSV/result_cnn.csv\",'w').write(result_cnn.to_csv())\n",
    "open(\"./CSV/result_lstm.csv\",'w').write(result_lstm.to_csv())\n",
    "open(\"./CSV/result_ens.csv\",'w').write(result_ens.to_csv())"
   ]
  },
  {
   "cell_type": "code",
   "execution_count": 156,
   "metadata": {
    "scrolled": true
   },
   "outputs": [],
   "source": [
    "cnn_bad = result_cnn[(result_cnn.annotation_bd != result_cnn.pred_bd) & (result_lstm.annotation_bd == result_lstm.pred_bd)]"
   ]
  },
  {
   "cell_type": "code",
   "execution_count": 157,
   "metadata": {},
   "outputs": [],
   "source": [
    "lstm_bad = result_lstm[(result_lstm.annotation_bd != result_lstm.pred_bd) & (result_cnn.annotation_bd == result_cnn.pred_bd)]"
   ]
  },
  {
   "cell_type": "code",
   "execution_count": 158,
   "metadata": {},
   "outputs": [],
   "source": [
    "ens_bad = result_ens[(result_ens.annotation_bd != result_ens.pred_bd)]"
   ]
  },
  {
   "cell_type": "code",
   "execution_count": 159,
   "metadata": {},
   "outputs": [],
   "source": [
    "from collections import Counter\n",
    "dist_cnn_bad = np.array(list(Counter(cnn_bad.domain).values()))\n",
    "dist_lstm_bad = np.array(list(Counter(lstm_bad.domain).values()))"
   ]
  },
  {
   "cell_type": "code",
   "execution_count": 160,
   "metadata": {},
   "outputs": [],
   "source": [
    "from scipy.stats import ttest_ind"
   ]
  },
  {
   "cell_type": "code",
   "execution_count": 285,
   "metadata": {},
   "outputs": [],
   "source": [
    "def sigLev(p,t=None):\n",
    "    message = \"\" if t == None else \"t = \" + str(t) + \", \"\n",
    "    levels = np.array([0.001,0.01,0.05,np.inf])\n",
    "    index = np.where(p <  levels)[0][0]\n",
    "    if index != len(levels) - 1:\n",
    "        level = levels[index]\n",
    "        message += \"p = %s < %s より，有意水準 %s %%で有意\"%(p,level,level * 100)\n",
    "    else:\n",
    "        message += \"p = %s より，有意差なし\"%(p)\n",
    "    return  message"
   ]
  },
  {
   "cell_type": "code",
   "execution_count": 361,
   "metadata": {},
   "outputs": [
    {
     "name": "stdout",
     "output_type": "stream",
     "text": [
      "CNNだけがミスしたデータの，システム応答の平均文字数 :  27.4305555556\n",
      "LSTMだけがミスしたデータの，システム応答の平均文字数 :  19.9318181818\n",
      "p = 0.0284903864698 < 0.05 より，有意水準 5.0 %で有意\n"
     ]
    }
   ],
   "source": [
    "cnn_bad_sys_len = list(map(len,cnn_bad.system))\n",
    "lstm_bad_sys_len = list(map(len,lstm_bad.system))\n",
    "user_len = list(map(len,result_cnn.user))\n",
    "system_len = list(map(len,result_lstm.system))\n",
    "print(\"CNNだけがミスしたデータの，システム応答の平均文字数 : \",np.mean(cnn_bad_sys_len))\n",
    "print(\"LSTMだけがミスしたデータの，システム応答の平均文字数 : \",np.mean(lstm_bad_sys_len))\n",
    "t,p = ttest_ind(cnn_bad_sys_len,lstm_bad_sys_len,equal_var=False)\n",
    "print(sigLev(p))"
   ]
  },
  {
   "cell_type": "code",
   "execution_count": 377,
   "metadata": {},
   "outputs": [
    {
     "data": {
      "image/png": "[encoded data removed]",
      "text/plain": [
       "<matplotlib.figure.Figure at 0x7f134c6bce10>"
      ]
     },
     "metadata": {},
     "output_type": "display_data"
    }
   ],
   "source": [
    "x,y = zip(*list(Counter(list(map(lambda x:x - x%1 + 1,user_len))).items()))\n",
    "plt.scatter(x,y)\n",
    "#plt.loglog()\n",
    "plt.show()"
   ]
  },
  {
   "cell_type": "code",
   "execution_count": 293,
   "metadata": {},
   "outputs": [
    {
     "data": {
      "text/plain": [
       "array([ 0.36111111,  0.26388889,  0.375     ])"
      ]
     },
     "execution_count": 293,
     "metadata": {},
     "output_type": "execute_result"
    }
   ],
   "source": [
    "dist_cnn_bad /np.sum(dist_cnn_bad)"
   ]
  },
  {
   "cell_type": "code",
   "execution_count": 294,
   "metadata": {},
   "outputs": [
    {
     "data": {
      "text/plain": [
       "array([ 0.43181818,  0.17045455,  0.39772727])"
      ]
     },
     "execution_count": 294,
     "metadata": {},
     "output_type": "execute_result"
    }
   ],
   "source": [
    "dist_lstm_bad/np.sum(dist_lstm_bad)"
   ]
  },
  {
   "cell_type": "code",
   "execution_count": 297,
   "metadata": {},
   "outputs": [
    {
     "data": {
      "text/plain": [
       "176443"
      ]
     },
     "execution_count": 297,
     "metadata": {},
     "output_type": "execute_result"
    }
   ],
   "source": [
    "open(\"./CSV/result_ens.csv\",\"w\").write(result_ens.to_csv())"
   ]
  },
  {
   "cell_type": "code",
   "execution_count": 298,
   "metadata": {},
   "outputs": [],
   "source": [
    "def confusion(results,title):\n",
    "    labels = [\"O\",\"T\",'X']\n",
    "    matrix = np.array([[len(results[r][p]) for p in labels] for r in labels])\n",
    "    #matrix = matrix/ np.sum(matrix,axis=1).reshape(1,-1).transpose()\n",
    "    plt.figure(figsize = (10,7))\n",
    "    plt.title(title)\n",
    "    plt.xlabel(\"Gold label\")\n",
    "    plt.ylabel(\"Predict\")\n",
    "    sns.heatmap(matrix, annot=True,fmt='g', cmap='Blues',xticklabels=labels,yticklabels=labels)\n",
    "    plt.savefig(\"./ConfusionMatrix/\"+title+\".png\")\n",
    "    plt.show()"
   ]
  },
  {
   "cell_type": "code",
   "execution_count": 308,
   "metadata": {},
   "outputs": [
    {
     "data": {
      "image/png": "[encoded data removed]",
      "text/plain": [
       "<matplotlib.figure.Figure at 0x7f134cb0ca20>"
      ]
     },
     "metadata": {},
     "output_type": "display_data"
    }
   ],
   "source": [
    "confusion(ea(\"DCM\",directory=\"./result_ens/\"),\"IRS_CNN\")"
   ]
  },
  {
   "cell_type": "code",
   "execution_count": 300,
   "metadata": {},
   "outputs": [
    {
     "data": {
      "image/png": "[encoded data removed]",
      "text/plain": [
       "<matplotlib.figure.Figure at 0x7f134f8fe518>"
      ]
     },
     "metadata": {},
     "output_type": "display_data"
    }
   ],
   "source": [
    "confusion(ea(\"DCM\",directory=\"./result_nomoto/\"),\"DCM_ENSEMBLE\")"
   ]
  },
  {
   "cell_type": "code",
   "execution_count": 301,
   "metadata": {},
   "outputs": [],
   "source": [
    "import pandas as pd"
   ]
  },
  {
   "cell_type": "code",
   "execution_count": null,
   "metadata": {
    "collapsed": true
   },
   "outputs": [],
   "source": []
  },
  {
   "cell_type": "code",
   "execution_count": 87,
   "metadata": {
    "collapsed": true
   },
   "outputs": [],
   "source": [
    "tmp = pd.read_pickle(\"./data/vecs.pickle\")\n",
    "tmp2 = pd.DataFrame(tmp['system'][:-1])\n",
    "tmp2.columns = ['system-1']\n",
    "tmp2.loc[-1] = [[]]\n",
    "tmp2.index = tmp2.index + 1\n",
    "tmp2 = tmp2.sort_index()\n",
    "for i in range(0,len(tmp2),11):\n",
    "    tmp2['system-1'][i] = np.array([])\n",
    "df = pd.concat([tmp,tmp2],axis=1)"
   ]
  },
  {
   "cell_type": "code",
   "execution_count": null,
   "metadata": {
    "collapsed": true
   },
   "outputs": [],
   "source": []
  },
  {
   "cell_type": "code",
   "execution_count": 246,
   "metadata": {},
   "outputs": [
    {
     "ename": "ImportError",
     "evalue": "cannot import name 'mk_minibatch'",
     "output_type": "error",
     "traceback": [
      "\u001b[0;31m---------------------------------------------------------------------------\u001b[0m",
      "\u001b[0;31mImportError\u001b[0m                               Traceback (most recent call last)",
      "\u001b[0;32m<ipython-input-246-2efdee1d256c>\u001b[0m in \u001b[0;36m<module>\u001b[0;34m()\u001b[0m\n\u001b[0;32m----> 1\u001b[0;31m \u001b[0;32mfrom\u001b[0m \u001b[0mpreprocess_chainer\u001b[0m \u001b[0;32mimport\u001b[0m \u001b[0mmk_minibatch\u001b[0m\u001b[0;34m\u001b[0m\u001b[0m\n\u001b[0m",
      "\u001b[0;32m~/research/DBDC/annt_kmeans/preprocess_chainer.py\u001b[0m in \u001b[0;36m<module>\u001b[0;34m()\u001b[0m\n\u001b[1;32m      3\u001b[0m \u001b[0;32mimport\u001b[0m \u001b[0mpickle\u001b[0m\u001b[0;34m\u001b[0m\u001b[0m\n\u001b[1;32m      4\u001b[0m \u001b[0;32mimport\u001b[0m \u001b[0mMeCab\u001b[0m\u001b[0;34m\u001b[0m\u001b[0m\n\u001b[0;32m----> 5\u001b[0;31m \u001b[0;32mfrom\u001b[0m \u001b[0mutils\u001b[0m \u001b[0;32mimport\u001b[0m \u001b[0mPreprocess\u001b[0m\u001b[0;34m,\u001b[0m \u001b[0mScalaList\u001b[0m\u001b[0;34m,\u001b[0m \u001b[0mListDict\u001b[0m\u001b[0;34m\u001b[0m\u001b[0m\n\u001b[0m\u001b[1;32m      6\u001b[0m \u001b[0;32mimport\u001b[0m \u001b[0mpandas\u001b[0m \u001b[0;32mas\u001b[0m \u001b[0mpd\u001b[0m\u001b[0;34m\u001b[0m\u001b[0m\n\u001b[1;32m      7\u001b[0m \u001b[0;32mimport\u001b[0m \u001b[0mnumpy\u001b[0m \u001b[0;32mas\u001b[0m \u001b[0mnp\u001b[0m\u001b[0;34m\u001b[0m\u001b[0m\n",
      "\u001b[0;32m~/research/DBDC/annt_kmeans/utils.py\u001b[0m in \u001b[0;36m<module>\u001b[0;34m()\u001b[0m\n\u001b[1;32m      7\u001b[0m \u001b[0;32mfrom\u001b[0m \u001b[0mfunctools\u001b[0m \u001b[0;32mimport\u001b[0m \u001b[0mreduce\u001b[0m\u001b[0;34m\u001b[0m\u001b[0m\n\u001b[1;32m      8\u001b[0m \u001b[0;32mimport\u001b[0m \u001b[0mkeras\u001b[0m\u001b[0;34m\u001b[0m\u001b[0m\n\u001b[0;32m----> 9\u001b[0;31m \u001b[0;32mfrom\u001b[0m \u001b[0mSeries_LSTM\u001b[0m \u001b[0;32mimport\u001b[0m \u001b[0mSeries_LSTM\u001b[0m\u001b[0;34m\u001b[0m\u001b[0m\n\u001b[0m\u001b[1;32m     10\u001b[0m \u001b[0;32mfrom\u001b[0m \u001b[0mchainer\u001b[0m \u001b[0;32mimport\u001b[0m \u001b[0mserializers\u001b[0m\u001b[0;34m\u001b[0m\u001b[0m\n\u001b[1;32m     11\u001b[0m \u001b[0;34m\u001b[0m\u001b[0m\n",
      "\u001b[0;32m~/research/DBDC/annt_kmeans/Series_LSTM.py\u001b[0m in \u001b[0;36m<module>\u001b[0;34m()\u001b[0m\n\u001b[1;32m     18\u001b[0m \u001b[0;32mimport\u001b[0m \u001b[0mnumpy\u001b[0m \u001b[0;32mas\u001b[0m \u001b[0mnp\u001b[0m\u001b[0;34m\u001b[0m\u001b[0m\n\u001b[1;32m     19\u001b[0m \u001b[0;32mimport\u001b[0m \u001b[0mcupy\u001b[0m \u001b[0;32mas\u001b[0m \u001b[0mcp\u001b[0m\u001b[0;34m\u001b[0m\u001b[0m\n\u001b[0;32m---> 20\u001b[0;31m \u001b[0;32mfrom\u001b[0m \u001b[0mpreprocess_chainer\u001b[0m \u001b[0;32mimport\u001b[0m \u001b[0mmk_minibatch\u001b[0m\u001b[0;34m\u001b[0m\u001b[0m\n\u001b[0m\u001b[1;32m     21\u001b[0m \u001b[0;32mfrom\u001b[0m \u001b[0mos\u001b[0m \u001b[0;32mimport\u001b[0m \u001b[0msystem\u001b[0m\u001b[0;34m\u001b[0m\u001b[0m\n\u001b[1;32m     22\u001b[0m \u001b[0;31m# xp = np\u001b[0m\u001b[0;34m\u001b[0m\u001b[0;34m\u001b[0m\u001b[0m\n",
      "\u001b[0;31mImportError\u001b[0m: cannot import name 'mk_minibatch'"
     ]
    }
   ],
   "source": [
    "from preprocess_chainer import mk_minibatch"
   ]
  },
  {
   "cell_type": "code",
   "execution_count": 55,
   "metadata": {},
   "outputs": [],
   "source": [
    "import json\n",
    "import glob"
   ]
  },
  {
   "cell_type": "code",
   "execution_count": 59,
   "metadata": {},
   "outputs": [],
   "source": []
  },
  {
   "cell_type": "code",
   "execution_count": 71,
   "metadata": {},
   "outputs": [],
   "source": [
    "fps_cnn = glob.glob(\"./result_conv_attn/DCM/*\")\n",
    "datas_cnn = sorted([json.load(open(fp)) for fp in fps_cnn],key=lambda x:x[\"dialogue-id\"])"
   ]
  },
  {
   "cell_type": "code",
   "execution_count": 69,
   "metadata": {},
   "outputs": [],
   "source": [
    "fps_rnn = glob.glob(\"./result_nomoto/DCM/*\")\n",
    "datas_rnn = sorted([json.load(open(fp)) for fp in fps_rnn],key=lambda x:x[\"dialogue-id\"])"
   ]
  },
  {
   "cell_type": "code",
   "execution_count": 82,
   "metadata": {},
   "outputs": [],
   "source": [
    "cnn_probs = []\n",
    "rnn_probs = []\n",
    "for cnn,rnn in zip(datas_cnn,datas_rnn):\n",
    "    for turn_cnn,turn_rnn in zip(cnn['turns'],rnn['turns']):\n",
    "        annt_cnn = turn_cnn['labels'][0]\n",
    "        annt_rnn = turn_rnn['labels'][0]\n",
    "        cnn_probs.append((annt_cnn['prob-O'],annt_cnn['prob-T'],annt_cnn['prob-X']))\n",
    "        rnn_probs.append((annt_rnn['prob-O'],annt_rnn['prob-T'],annt_rnn['prob-X']))"
   ]
  },
  {
   "cell_type": "code",
   "execution_count": 85,
   "metadata": {},
   "outputs": [],
   "source": [
    "cnn_probs = np.array(cnn_probs)"
   ]
  },
  {
   "cell_type": "code",
   "execution_count": 86,
   "metadata": {},
   "outputs": [],
   "source": [
    "rnn_probs = np.array(rnn_probs)"
   ]
  },
  {
   "cell_type": "code",
   "execution_count": 92,
   "metadata": {},
   "outputs": [],
   "source": [
    "def mse(x,y):\n",
    "    return np.average(np.square(x-y),axis=0)"
   ]
  },
  {
   "cell_type": "code",
   "execution_count": 141,
   "metadata": {},
   "outputs": [
    {
     "data": {
      "text/plain": [
       "array([0, 0, 2, 2, 2, 2, 0, 2, 2, 2, 2, 0, 0, 0, 0, 2, 2, 2, 2, 2, 0, 2, 0,\n",
       "       0, 2, 2, 2, 2, 2, 2, 2, 2, 2, 0, 2, 2, 2, 0, 2, 0, 0, 0, 2, 2, 0, 0,\n",
       "       2, 2, 2, 2, 2, 0, 2, 2, 2, 0, 2, 2, 0, 2, 2, 2, 2, 2, 2, 0, 0, 2, 2,\n",
       "       0, 0, 2, 2, 2, 2, 2, 0, 0, 0, 2, 0, 0, 2, 0, 0, 2, 0, 0, 0, 2, 2, 2,\n",
       "       2, 2, 2, 2, 0, 2, 2, 0, 2, 0, 0, 2, 0, 2, 2, 0, 2, 0, 0, 2, 2, 0, 2,\n",
       "       2, 2, 2, 0, 2, 0, 0, 2, 2, 2, 2, 2, 2, 2, 2, 2, 2, 0, 0, 0, 0, 0, 2,\n",
       "       0, 2, 2, 2, 2, 0, 2, 0, 0, 0, 2, 2, 2, 2, 2, 0, 0, 0, 2, 0, 0, 0, 0,\n",
       "       0, 2, 0, 0, 0, 0, 0, 2, 0, 2, 0, 0, 0, 2, 2, 0, 0, 2, 0, 2, 0, 2, 2,\n",
       "       2, 2, 2, 0, 2, 0, 0, 2, 2, 0, 2, 2, 2, 0, 0, 0, 0, 2, 2, 2, 0, 0, 0,\n",
       "       0, 0, 0, 2, 2, 2, 2, 2, 0, 2, 2, 2, 0, 0, 0, 0, 2, 0, 0, 2, 2, 0, 0,\n",
       "       2, 0, 2, 0, 2, 2, 2, 2, 2, 2, 2, 2, 0, 2, 0, 2, 2, 2, 2, 2, 2, 0, 2,\n",
       "       0, 2, 0, 2, 2, 2, 0, 0, 0, 0, 0, 0, 0, 2, 2, 0, 2, 2, 0, 2, 2, 2, 0,\n",
       "       2, 2, 0, 2, 2, 2, 2, 0, 0, 0, 0, 2, 2, 0, 2, 2, 0, 0, 0, 2, 2, 0, 2,\n",
       "       2, 0, 0, 0, 0, 0, 0, 0, 2, 0, 2, 2, 2, 0, 0, 2, 0, 0, 0, 0, 0, 2, 0,\n",
       "       0, 2, 2, 2, 2, 0, 2, 2, 0, 2, 2, 0, 2, 0, 2, 0, 2, 2, 2, 0, 0, 0, 0,\n",
       "       0, 0, 0, 0, 0, 2, 0, 0, 2, 2, 2, 2, 2, 0, 0, 2, 0, 2, 0, 2, 2, 2, 2,\n",
       "       2, 2, 2, 2, 2, 2, 0, 0, 0, 0, 0, 2, 0, 0, 0, 0, 2, 0, 2, 0, 0, 0, 2,\n",
       "       0, 2, 0, 0, 0, 0, 2, 2, 2, 2, 2, 0, 0, 0, 0, 0, 0, 2, 2, 2, 2, 0, 2,\n",
       "       2, 2, 2, 2, 0, 2, 0, 0, 0, 0, 0, 2, 2, 0, 2, 0, 0, 0, 0, 0, 2, 2, 2,\n",
       "       0, 2, 0, 0, 2, 2, 2, 0, 2, 2, 2, 2, 0, 2, 0, 2, 2, 2, 2, 0, 2, 2, 2,\n",
       "       2, 0, 0, 2, 0, 2, 0, 0, 0, 0, 0, 0, 0, 0, 2, 2, 0, 2, 0, 2, 0, 0, 2,\n",
       "       0, 0, 0, 2, 2, 0, 2, 0, 0, 2, 2, 2, 0, 0, 2, 2, 2, 2, 2, 2, 2, 0, 2,\n",
       "       0, 2, 0, 2, 2, 2, 2, 2, 2, 0, 2, 0, 2, 2, 2, 2, 2, 2, 0, 2, 2, 0, 0,\n",
       "       0, 2, 2, 2, 2, 0, 2, 0, 0, 0, 0, 0, 0, 0, 0, 0, 2, 2, 2, 2, 2])"
      ]
     },
     "execution_count": 141,
     "metadata": {},
     "output_type": "execute_result"
    }
   ],
   "source": [
    "np.argmax(rnn_probs,axis=1)"
   ]
  },
  {
   "cell_type": "code",
   "execution_count": 172,
   "metadata": {},
   "outputs": [],
   "source": [
    "from sklearn.preprocessing import OneHotEncoder\n",
    "encoder = OneHotEncoder(n_values=3)\n",
    "oh_rnn = encoder.fit_transform(np.argmax(rnn_probs,axis=1).reshape(1,-1).transpose()).toarray()\n",
    "oh_cnn = encoder.fit_transform(np.argmax(cnn_probs,axis=1).reshape(1,-1).transpose()).toarray()\n"
   ]
  },
  {
   "cell_type": "code",
   "execution_count": 175,
   "metadata": {},
   "outputs": [
    {
     "data": {
      "text/plain": [
       "array([ 0.19090909,  0.00181818,  0.18909091])"
      ]
     },
     "execution_count": 175,
     "metadata": {},
     "output_type": "execute_result"
    }
   ],
   "source": [
    "mse(oh_rnn,oh_cnn)"
   ]
  },
  {
   "cell_type": "code",
   "execution_count": 196,
   "metadata": {},
   "outputs": [
    {
     "ename": "ImportError",
     "evalue": "cannot import name 'accuracy'",
     "output_type": "error",
     "traceback": [
      "\u001b[0;31m---------------------------------------------------------------------------\u001b[0m",
      "\u001b[0;31mImportError\u001b[0m                               Traceback (most recent call last)",
      "\u001b[0;32m<ipython-input-196-4f0be2db1bf9>\u001b[0m in \u001b[0;36m<module>\u001b[0;34m()\u001b[0m\n\u001b[0;32m----> 1\u001b[0;31m \u001b[0;32mfrom\u001b[0m \u001b[0msklearn\u001b[0m\u001b[0;34m.\u001b[0m\u001b[0mmetrics\u001b[0m \u001b[0;32mimport\u001b[0m \u001b[0maccuracy\u001b[0m\u001b[0;34m\u001b[0m\u001b[0m\n\u001b[0m",
      "\u001b[0;31mImportError\u001b[0m: cannot import name 'accuracy'"
     ]
    }
   ],
   "source": [
    "from sklearn.metrics import accuracy_score"
   ]
  },
  {
   "cell_type": "code",
   "execution_count": 198,
   "metadata": {},
   "outputs": [
    {
     "data": {
      "text/plain": [
       "0.80909090909090908"
      ]
     },
     "execution_count": 198,
     "metadata": {},
     "output_type": "execute_result"
    }
   ],
   "source": [
    "accuracy_score(np.argmax(rnn_probs,axis=1),np.argmax(cnn_probs,axis=1))"
   ]
  },
  {
   "cell_type": "code",
   "execution_count": 186,
   "metadata": {},
   "outputs": [
    {
     "data": {
      "text/plain": [
       "array([0, 0, 2, 2, 2, 2, 2, 2, 2, 2, 2, 0, 0, 0, 0, 2, 2, 2, 2, 2, 2, 2, 0,\n",
       "       0, 0, 2, 2, 2, 2, 2, 0, 2, 2, 0, 2, 2, 2, 1, 2, 2, 0, 0, 2, 2, 0, 0,\n",
       "       2, 2, 2, 2, 2, 0, 2, 2, 2, 0, 2, 0, 0, 2, 2, 2, 2, 2, 0, 2, 0, 2, 2,\n",
       "       0, 2, 2, 2, 2, 2, 2, 0, 0, 0, 2, 0, 0, 0, 0, 0, 0, 0, 0, 0, 0, 2, 2,\n",
       "       2, 2, 2, 0, 0, 2, 2, 0, 2, 0, 0, 2, 0, 2, 2, 2, 2, 0, 0, 2, 2, 0, 2,\n",
       "       2, 2, 2, 0, 2, 2, 0, 2, 2, 2, 2, 0, 2, 2, 2, 2, 2, 0, 0, 0, 0, 2, 0,\n",
       "       2, 2, 2, 2, 2, 0, 0, 0, 0, 0, 2, 2, 0, 2, 2, 0, 0, 0, 2, 0, 0, 0, 0,\n",
       "       0, 2, 0, 0, 0, 0, 2, 2, 0, 2, 0, 0, 0, 2, 2, 0, 0, 0, 0, 2, 0, 2, 2,\n",
       "       2, 2, 2, 0, 2, 0, 0, 2, 2, 2, 2, 2, 2, 0, 0, 0, 2, 2, 2, 0, 0, 0, 2,\n",
       "       2, 0, 0, 2, 2, 2, 2, 0, 0, 2, 0, 2, 2, 0, 0, 2, 2, 2, 0, 0, 2, 0, 0,\n",
       "       2, 0, 0, 0, 2, 2, 2, 2, 2, 2, 2, 2, 0, 0, 2, 2, 2, 2, 2, 2, 2, 2, 2,\n",
       "       0, 2, 0, 0, 2, 2, 0, 0, 2, 0, 0, 0, 0, 2, 2, 2, 2, 2, 2, 2, 2, 2, 0,\n",
       "       2, 2, 0, 2, 0, 2, 2, 0, 2, 0, 0, 2, 2, 0, 2, 2, 0, 0, 0, 0, 2, 0, 0,\n",
       "       0, 0, 0, 0, 0, 0, 0, 2, 0, 0, 2, 2, 2, 0, 2, 0, 0, 0, 0, 2, 0, 0, 0,\n",
       "       0, 2, 0, 2, 2, 0, 2, 2, 0, 2, 2, 0, 2, 0, 2, 0, 2, 0, 2, 0, 0, 0, 0,\n",
       "       0, 2, 0, 0, 2, 2, 0, 0, 2, 2, 2, 2, 2, 2, 0, 2, 0, 2, 0, 0, 0, 0, 0,\n",
       "       0, 0, 0, 2, 2, 2, 0, 0, 0, 0, 0, 2, 0, 0, 2, 2, 2, 0, 2, 0, 0, 0, 2,\n",
       "       0, 2, 2, 2, 2, 0, 2, 2, 2, 2, 2, 2, 0, 0, 2, 0, 0, 2, 2, 2, 2, 2, 2,\n",
       "       2, 2, 2, 2, 0, 0, 0, 2, 0, 2, 2, 2, 2, 0, 2, 0, 0, 0, 0, 2, 0, 2, 2,\n",
       "       2, 2, 0, 0, 2, 2, 2, 0, 2, 2, 2, 2, 0, 2, 0, 2, 2, 2, 2, 2, 2, 2, 2,\n",
       "       2, 2, 0, 0, 0, 0, 0, 0, 0, 0, 0, 0, 0, 0, 2, 2, 0, 0, 0, 2, 0, 2, 2,\n",
       "       0, 0, 0, 0, 2, 0, 0, 0, 0, 0, 0, 2, 0, 0, 2, 2, 0, 2, 2, 2, 2, 2, 2,\n",
       "       0, 0, 0, 2, 2, 2, 2, 2, 2, 2, 2, 0, 0, 0, 0, 2, 2, 2, 2, 2, 2, 2, 0,\n",
       "       0, 0, 0, 2, 2, 0, 2, 0, 0, 2, 0, 0, 0, 0, 2, 2, 2, 2, 2, 2, 2])"
      ]
     },
     "execution_count": 186,
     "metadata": {},
     "output_type": "execute_result"
    }
   ],
   "source": [
    "np.argmax(cnn_probs,axis=1)"
   ]
  },
  {
   "cell_type": "code",
   "execution_count": 233,
   "metadata": {},
   "outputs": [],
   "source": [
    "text = \"aiueokakikukeko\""
   ]
  },
  {
   "cell_type": "code",
   "execution_count": 236,
   "metadata": {},
   "outputs": [],
   "source": [
    "bigram = [text[i:i+2] for i in range(len(text)-1)]"
   ]
  },
  {
   "cell_type": "code",
   "execution_count": 237,
   "metadata": {},
   "outputs": [
    {
     "data": {
      "text/plain": [
       "['ai',\n",
       " 'iu',\n",
       " 'ue',\n",
       " 'eo',\n",
       " 'ok',\n",
       " 'ka',\n",
       " 'ak',\n",
       " 'ki',\n",
       " 'ik',\n",
       " 'ku',\n",
       " 'uk',\n",
       " 'ke',\n",
       " 'ek',\n",
       " 'ko']"
      ]
     },
     "execution_count": 237,
     "metadata": {},
     "output_type": "execute_result"
    }
   ],
   "source": [
    "bigram"
   ]
  },
  {
   "cell_type": "code",
   "execution_count": null,
   "metadata": {},
   "outputs": [],
   "source": []
  }
 ],
 "metadata": {
  "kernelspec": {
   "display_name": "Python 3",
   "language": "python",
   "name": "python3"
  },
  "language_info": {
   "codemirror_mode": {
    "name": "ipython",
    "version": 3
   },
   "file_extension": ".py",
   "mimetype": "text/x-python",
   "name": "python",
   "nbconvert_exporter": "python",
   "pygments_lexer": "ipython3",
   "version": "3.5.2"
  }
 },
 "nbformat": 4,
 "nbformat_minor": 2
}
