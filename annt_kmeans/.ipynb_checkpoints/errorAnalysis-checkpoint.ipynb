{
 "cells": [
  {
   "cell_type": "code",
   "execution_count": 10,
   "metadata": {
    "collapsed": true
   },
   "outputs": [],
   "source": [
    "import json\n",
    "import glob\n",
    "import numpy as np\n",
    "import yaml\n",
    "import matplotlib.pyplot as plt\n",
    "import seaborn as sns"
   ]
  },
  {
   "cell_type": "code",
   "execution_count": null,
   "metadata": {
    "collapsed": true
   },
   "outputs": [],
   "source": []
  },
  {
   "cell_type": "code",
   "execution_count": 11,
   "metadata": {
    "collapsed": true
   },
   "outputs": [],
   "source": [
    "from collections import Counter,OrderedDict"
   ]
  },
  {
   "cell_type": "code",
   "execution_count": 12,
   "metadata": {
    "collapsed": true
   },
   "outputs": [],
   "source": [
    "def represent_odict(dumper, instance):\n",
    "     return dumper.represent_mapping(u'tag:yaml.org,2002:map', instance.items())\n",
    "\n",
    "yaml.add_representer(OrderedDict, represent_odict)\n",
    "\n",
    "def construct_odict(loader, node):\n",
    "    return OrderedDict(loader.construct_pairs(node))\n",
    "\n",
    "yaml.add_constructor(u'tag:yaml.org,2002:map', construct_odict)"
   ]
  },
  {
   "cell_type": "code",
   "execution_count": 15,
   "metadata": {
    "collapsed": true
   },
   "outputs": [],
   "source": [
    "def ea(domain=\"DCM\",threshold=0.5):\n",
    "    results = {\n",
    "        'O':{'O':[],'T':[],'X':[]},\n",
    "        'T':{'O':[],'T':[],'X':[]},\n",
    "        'X':{'O':[],'T':[],'X':[]}\n",
    "    }\n",
    "    ref_paths = glob.glob(\"../DBDC2_ref/\"+domain+\"/*.json\")\n",
    "    pred_paths = glob.glob(\"./result/\"+domain+\"/*.json\")\n",
    "\n",
    "    refs = [json.load(open(ref)) for ref in ref_paths]\n",
    "    preds = [json.load(open(ref)) for ref in pred_paths]\n",
    "\n",
    "    refs = sorted(refs,key = lambda x: x['dialogue-id'])\n",
    "    preds = sorted(preds,key = lambda x: x['dialogue-id'])\n",
    "\n",
    "    for ref,pred in zip(refs,preds):\n",
    "        #print(\"------------dialogue-id :\",ref['dialogue-id'],\"------------\")\n",
    "        for i in range(0,len(ref['turns']),2):\n",
    "            labels = (\"O\",\"T\",\"X\")\n",
    "            user = \"\" if i == 0 else ref['turns'][i-1]['utterance']\n",
    "            system = ref['turns'][i]['utterance']\n",
    "\n",
    "            breakdown_pred = pred['turns'][int(i/2)]['labels'][0]['breakdown']\n",
    "            \n",
    "            annts_all = ref['turns'][i]['annotations']\n",
    "            annts = [elem['breakdown'] for elem in annts_all]\n",
    "            count = Counter(annts)\n",
    "            dist_ref = np.array([count[label] for label in labels])\n",
    "            dist_ref = dist_ref / np.sum(dist_ref)\n",
    "\n",
    "            prob_O,prob_T,prob_X = dist_ref\n",
    "\n",
    "            if prob_O >= prob_T and prob_O >= prob_X and prob_O >= threshold:\n",
    "                breakdown_ref = \"O\"\n",
    "            elif prob_T >= prob_O and prob_T >= prob_X and prob_T >= threshold:\n",
    "                breakdown_ref =  \"T\"\n",
    "            elif prob_X >= prob_T and prob_X >= prob_O and prob_X >= threshold:\n",
    "                breakdown_ref =  \"X\"\n",
    "            else:\n",
    "                breakdown_ref =  \"O\"\n",
    "            \n",
    "            \n",
    "            \n",
    "            internal_result = OrderedDict([\n",
    "                ('dialogue-id',ref['dialogue-id']),\n",
    "                ('turn',i),\n",
    "                ('user',user),\n",
    "                ('system',system),\n",
    "                #('predict_proba',list(map(float,dist_pred))),\n",
    "                ('reference_proba',list(map(float,dist_ref))),\n",
    "            ])\n",
    "            results[breakdown_ref][breakdown_pred].append(internal_result)\n",
    "    return results"
   ]
  },
  {
   "cell_type": "code",
   "execution_count": 159,
   "metadata": {
    "collapsed": true
   },
   "outputs": [],
   "source": [
    "results = ea(\"IRS\")"
   ]
  },
  {
   "cell_type": "code",
   "execution_count": 160,
   "metadata": {
    "collapsed": true
   },
   "outputs": [],
   "source": [
    "yml = yaml.dump(results['X']['O'],encoding='utf-8', allow_unicode=True)"
   ]
  },
  {
   "cell_type": "code",
   "execution_count": 161,
   "metadata": {},
   "outputs": [
    {
     "name": "stdout",
     "output_type": "stream",
     "text": [
      "- dialogue-id: '1471400575'\n",
      "  turn: 2\n",
      "  user: 餃子とかが好きです。あなたは?\n",
      "  system: ひとりのほうが好きですね。あなたはどうですか？\n",
      "  reference_proba: [0.06666666666666667, 0.1, 0.8333333333333334]\n",
      "- dialogue-id: '1471401010'\n",
      "  turn: 20\n",
      "  user: 引き分けですか？\n",
      "  system: では、好きな動物は何ですか？\n",
      "  reference_proba: [0.1, 0.3, 0.6]\n",
      "- dialogue-id: '1471401407'\n",
      "  turn: 2\n",
      "  user: こんにちは。私はパンダが大好きです。\n",
      "  system: いやいやいや。私好きなんて言ってません。\n",
      "  reference_proba: [0.1, 0.4, 0.5]\n",
      "- dialogue-id: '1471414143'\n",
      "  turn: 14\n",
      "  user: おはようございます。でも、今、昼ですよ。\n",
      "  system: おはようございます、よろしくお願いします。\n",
      "  reference_proba: [0.03333333333333333, 0.43333333333333335, 0.5333333333333333]\n",
      "- dialogue-id: '1471414153'\n",
      "  turn: 20\n",
      "  user: 果物はデザートって感じがしますね\n",
      "  system: 柿ですか。秋っぽくていいですね\n",
      "  reference_proba: [0.1, 0.4, 0.5]\n",
      "- dialogue-id: '1471414297'\n",
      "  turn: 4\n",
      "  user: おすすめはここのから揚げです。\n",
      "  system: スラムダンクは好きでしたね。\n",
      "  reference_proba: [0.0, 0.16666666666666666, 0.8333333333333334]\n",
      "- dialogue-id: '1471414297'\n",
      "  turn: 18\n",
      "  user: 片づけは大事ですよ。\n",
      "  system: おやすみ\n",
      "  reference_proba: [0.06666666666666667, 0.43333333333333335, 0.5]\n",
      "- dialogue-id: '1471414529'\n",
      "  turn: 6\n",
      "  user: 柴犬が一番好きです\n",
      "  system: うーん、最近は玄米茶が好きです。\n",
      "  reference_proba: [0.03333333333333333, 0.1, 0.8666666666666667]\n",
      "- dialogue-id: '1471414529'\n",
      "  turn: 14\n",
      "  user: すごいバリエーションですね\n",
      "  system: どんな会話してるんでしょうね。\n",
      "  reference_proba: [0.06666666666666667, 0.2, 0.7333333333333333]\n",
      "- dialogue-id: '1471414557'\n",
      "  turn: 8\n",
      "  user: 寒いところは好き？\n",
      "  system: 大丈夫ですか\n",
      "  reference_proba: [0.03333333333333333, 0.43333333333333335, 0.5333333333333333]\n",
      "- dialogue-id: '1471414621'\n",
      "  turn: 8\n",
      "  user: 分かる分かる。\n",
      "  system: やっぱりマウンテンバイクにはあこがれます。\n",
      "  reference_proba: [0.1, 0.1, 0.8]\n",
      "- dialogue-id: '1471414732'\n",
      "  turn: 10\n",
      "  user: インターネットでもいいんじゃないの？\n",
      "  system: 楽しくするのが仕事なんだ\n",
      "  reference_proba: [0.13333333333333333, 0.16666666666666666, 0.7]\n",
      "- dialogue-id: '1471414732'\n",
      "  turn: 12\n",
      "  user: 人柄がでそうだね\n",
      "  system: あと、噂に聞いてましたが、やっぱり何もかも\"デカイ\"ですね。\n",
      "  reference_proba: [0.03333333333333333, 0.23333333333333334, 0.7333333333333333]\n",
      "- dialogue-id: '1471414732'\n",
      "  turn: 20\n",
      "  user: ちがいますよ\n",
      "  system: ニュースなんですよ\n",
      "  reference_proba: [0.03333333333333333, 0.13333333333333333, 0.8333333333333334]\n",
      "- dialogue-id: '1471414890'\n",
      "  turn: 8\n",
      "  user: 整理整頓は大事です\n",
      "  system: おやすみ\n",
      "  reference_proba: [0.13333333333333333, 0.26666666666666666, 0.6]\n",
      "- dialogue-id: '1471414917'\n",
      "  turn: 6\n",
      "  user: お仕事は何ですか？\n",
      "  system: ええ。気楽に。人と顔を見て話すことってでも大事ですよね。\n",
      "  reference_proba: [0.06666666666666667, 0.06666666666666667, 0.8666666666666667]\n",
      "- dialogue-id: '1471415029'\n",
      "  turn: 4\n",
      "  user: 名曲ばかりです。ぜひどうぞ\n",
      "  system: そうですね、部屋の電気消してやってみたいと思います。\n",
      "  reference_proba: [0.06666666666666667, 0.3333333333333333, 0.6]\n",
      "- dialogue-id: '1471415029'\n",
      "  turn: 14\n",
      "  user: 美容室でのおしゃべりも弾みますよね\n",
      "  system: すみません、ちょっと僕には日給わかんないです。\n",
      "  reference_proba: [0.0, 0.06666666666666667, 0.9333333333333333]\n",
      "- dialogue-id: '1471415056'\n",
      "  turn: 6\n",
      "  user: 日本語のものしか読まないです\n",
      "  system: いえいえ。誘われたら行くって感じですよ。\n",
      "  reference_proba: [0.03333333333333333, 0.03333333333333333, 0.9333333333333333]\n",
      "- dialogue-id: '1471415116'\n",
      "  turn: 12\n",
      "  user: いいえ。年に二回ぐらい。\n",
      "  system: そうなんですか。よくあるんですかこのバイト？\n",
      "  reference_proba: [0.1, 0.16666666666666666, 0.7333333333333333]\n",
      "- dialogue-id: '1471415116'\n",
      "  turn: 16\n",
      "  user: もう直ったので大丈夫ですよ。\n",
      "  system: すみません。急いでアップしてしまいました。\n",
      "  reference_proba: [0.0, 0.3333333333333333, 0.6666666666666666]\n",
      "- dialogue-id: '1471415148'\n",
      "  turn: 14\n",
      "  user: 花が好きなんですね。\n",
      "  system: もしかして食べたくないんですか？\n",
      "  reference_proba: [0.0, 0.06666666666666667, 0.9333333333333333]\n",
      "- dialogue-id: '1471415148'\n",
      "  turn: 16\n",
      "  user: 今はおなかいっぱいです。\n",
      "  system: なりましたよ。学食のわりにおいしかったです。\n",
      "  reference_proba: [0.0, 0.23333333333333334, 0.7666666666666667]\n",
      "- dialogue-id: '1471415173'\n",
      "  turn: 4\n",
      "  user: 音楽鑑賞もいいですね\n",
      "  system: なるほど。スポーツが趣味ということですが、何かされていますか？\n",
      "  reference_proba: [0.1, 0.03333333333333333, 0.8666666666666667]\n",
      "- dialogue-id: '1471415314'\n",
      "  turn: 4\n",
      "  user: はい、健康にもいいですし、ストレス解消にもなります。\n",
      "  system: そうですね〜サーブを思いっきり打って入ったら結構快感ですよ!\n",
      "  reference_proba: [0.03333333333333333, 0.03333333333333333, 0.9333333333333333]\n",
      "- dialogue-id: '1471415547'\n",
      "  turn: 14\n",
      "  user: それはすごい！\n",
      "  system: どんな会話してるんでしょうね。\n",
      "  reference_proba: [0.13333333333333333, 0.2, 0.6666666666666666]\n",
      "- dialogue-id: '1471415556'\n",
      "  turn: 2\n",
      "  user: こんにちは。学生の時にバドミントンをしていました。\n",
      "  system: いいですね、私は遠くてアメリカくらいなのでヨーロッパ系とか行ってみたいです!\n",
      "  reference_proba: [0.03333333333333333, 0.16666666666666666, 0.8]\n",
      "- dialogue-id: '1471415566'\n",
      "  turn: 10\n",
      "  user: まだ1か月ほどです。\n",
      "  system: おっと、若いですね。じゃあお酒もまだ駄目なんだ。\n",
      "  reference_proba: [0.06666666666666667, 0.1, 0.8333333333333334]\n",
      "- dialogue-id: '1471415566'\n",
      "  turn: 14\n",
      "  user: 'アルコール度数が低いから、弱い人でも飲める '\n",
      "  system: うわー、全く当てはまらないですね。\n",
      "  reference_proba: [0.06666666666666667, 0.3, 0.6333333333333333]\n",
      "- dialogue-id: '1471415728'\n",
      "  turn: 6\n",
      "  user: そうですね。\n",
      "  system: 言い忘れてましたが、オリゴ糖も摂取しています。\n",
      "  reference_proba: [0.06666666666666667, 0.26666666666666666, 0.6666666666666666]\n",
      "- dialogue-id: '1471415903'\n",
      "  turn: 12\n",
      "  user: ラーメンいいですね！おいしかったですか？\n",
      "  system: ラーメンを多\n",
      "  reference_proba: [0.03333333333333333, 0.3333333333333333, 0.6333333333333333]\n",
      "- dialogue-id: '1471415903'\n",
      "  turn: 14\n",
      "  user: 私はラーメン屋めぐりがしてみたいです\n",
      "  system: ↑ですけどね\n",
      "  reference_proba: [0.03333333333333333, 0.26666666666666666, 0.7]\n",
      "- dialogue-id: '1471415952'\n",
      "  turn: 2\n",
      "  user: こんにちは。ネットサーフィンをすることが多いですがあなたは？\n",
      "  system: 好きなマンガは？　らんま1/2知ってますか？\n",
      "  reference_proba: [0.13333333333333333, 0.3, 0.5666666666666667]\n",
      "- dialogue-id: '1471416168'\n",
      "  turn: 10\n",
      "  user: それはよかったですね。\n",
      "  system: さっきのドライブの話に戻りますけど\n",
      "  reference_proba: [0.2, 0.3, 0.5]\n",
      "- dialogue-id: '1471416168'\n",
      "  turn: 16\n",
      "  user: 机を作ったことがあります。\n",
      "  system: チーズケーキくらいです。\n",
      "  reference_proba: [0.1, 0.26666666666666666, 0.6333333333333333]\n",
      "- dialogue-id: '1471416385'\n",
      "  turn: 14\n",
      "  user: 1人カラオケは行ったことないけど\n",
      "  system: 海外旅行は、けっこう行きました。\n",
      "  reference_proba: [0.03333333333333333, 0.36666666666666664, 0.6]\n",
      "\n"
     ]
    }
   ],
   "source": [
    "print(yml.decode())"
   ]
  },
  {
   "cell_type": "code",
   "execution_count": 162,
   "metadata": {
    "scrolled": true
   },
   "outputs": [
    {
     "data": {
      "text/plain": [
       "169"
      ]
     },
     "execution_count": 162,
     "metadata": {},
     "output_type": "execute_result"
    }
   ],
   "source": [
    "len(results['X']['X'])"
   ]
  },
  {
   "cell_type": "code",
   "execution_count": 222,
   "metadata": {
    "collapsed": true
   },
   "outputs": [],
   "source": [
    "def confusion(results):\n",
    "    labels = [\"O\",\"T\",'X']\n",
    "    matrix = np.array([[len(results[r][p]) for p in labels] for r in labels])\n",
    "    matrix = matrix/ np.sum(matrix,axis=1).reshape(1,-1).transpose()\n",
    "    plt.figure(figsize = (10,7))\n",
    "    sns.heatmap(matrix, annot=True,fmt='g', cmap='Blues',xticklabels=labels,yticklabels=labels)\n",
    "    plt.show()"
   ]
  },
  {
   "cell_type": "code",
   "execution_count": 226,
   "metadata": {},
   "outputs": [
    {
     "data": {
      "image/png": "[encoded data removed]",
      "text/plain": [
       "<matplotlib.figure.Figure at 0x7fe86e9eed30>"
      ]
     },
     "metadata": {},
     "output_type": "display_data"
    }
   ],
   "source": [
    "confusion(ea(\"IRS\"))"
   ]
  },
  {
   "cell_type": "code",
   "execution_count": 227,
   "metadata": {},
   "outputs": [
    {
     "data": {
      "image/png": "[encoded data removed]",
      "text/plain": [
       "<matplotlib.figure.Figure at 0x7fe86c257198>"
      ]
     },
     "metadata": {},
     "output_type": "display_data"
    }
   ],
   "source": [
    "confusion(ea(\"DCM\"))"
   ]
  },
  {
   "cell_type": "code",
   "execution_count": 228,
   "metadata": {},
   "outputs": [
    {
     "data": {
      "image/png": "[encoded data removed]",
      "text/plain": [
       "<matplotlib.figure.Figure at 0x7fe86c146438>"
      ]
     },
     "metadata": {},
     "output_type": "display_data"
    }
   ],
   "source": [
    "confusion(ea(\"DIT\"))"
   ]
  },
  {
   "cell_type": "code",
   "execution_count": 86,
   "metadata": {
    "collapsed": true
   },
   "outputs": [],
   "source": [
    "import pandas as pd"
   ]
  },
  {
   "cell_type": "code",
   "execution_count": null,
   "metadata": {
    "collapsed": true
   },
   "outputs": [],
   "source": []
  },
  {
   "cell_type": "code",
   "execution_count": 87,
   "metadata": {
    "collapsed": true
   },
   "outputs": [],
   "source": [
    "tmp = pd.read_pickle(\"./data/vecs.pickle\")\n",
    "tmp2 = pd.DataFrame(tmp['system'][:-1])\n",
    "tmp2.columns = ['system-1']\n",
    "tmp2.loc[-1] = [[]]\n",
    "tmp2.index = tmp2.index + 1\n",
    "tmp2 = tmp2.sort_index()\n",
    "for i in range(0,len(tmp2),11):\n",
    "    tmp2['system-1'][i] = np.array([])\n",
    "df = pd.concat([tmp,tmp2],axis=1)"
   ]
  },
  {
   "cell_type": "code",
   "execution_count": null,
   "metadata": {
    "collapsed": true
   },
   "outputs": [],
   "source": []
  },
  {
   "cell_type": "code",
   "execution_count": 91,
   "metadata": {},
   "outputs": [
    {
     "ename": "KeyError",
     "evalue": "'system'",
     "output_type": "error",
     "traceback": [
      "\u001b[0;31m---------------------------------------------------------------------------\u001b[0m",
      "\u001b[0;31mKeyError\u001b[0m                                  Traceback (most recent call last)",
      "\u001b[0;32m~/.local/lib/python3.5/site-packages/pandas/core/indexes/base.py\u001b[0m in \u001b[0;36mget_loc\u001b[0;34m(self, key, method, tolerance)\u001b[0m\n\u001b[1;32m   2441\u001b[0m             \u001b[0;32mtry\u001b[0m\u001b[0;34m:\u001b[0m\u001b[0;34m\u001b[0m\u001b[0m\n\u001b[0;32m-> 2442\u001b[0;31m                 \u001b[0;32mreturn\u001b[0m \u001b[0mself\u001b[0m\u001b[0;34m.\u001b[0m\u001b[0m_engine\u001b[0m\u001b[0;34m.\u001b[0m\u001b[0mget_loc\u001b[0m\u001b[0;34m(\u001b[0m\u001b[0mkey\u001b[0m\u001b[0;34m)\u001b[0m\u001b[0;34m\u001b[0m\u001b[0m\n\u001b[0m\u001b[1;32m   2443\u001b[0m             \u001b[0;32mexcept\u001b[0m \u001b[0mKeyError\u001b[0m\u001b[0;34m:\u001b[0m\u001b[0;34m\u001b[0m\u001b[0m\n",
      "\u001b[0;32mpandas/_libs/index.pyx\u001b[0m in \u001b[0;36mpandas._libs.index.IndexEngine.get_loc (pandas/_libs/index.c:5280)\u001b[0;34m()\u001b[0m\n",
      "\u001b[0;32mpandas/_libs/index.pyx\u001b[0m in \u001b[0;36mpandas._libs.index.IndexEngine.get_loc (pandas/_libs/index.c:5126)\u001b[0;34m()\u001b[0m\n",
      "\u001b[0;32mpandas/_libs/hashtable_class_helper.pxi\u001b[0m in \u001b[0;36mpandas._libs.hashtable.PyObjectHashTable.get_item (pandas/_libs/hashtable.c:20523)\u001b[0;34m()\u001b[0m\n",
      "\u001b[0;32mpandas/_libs/hashtable_class_helper.pxi\u001b[0m in \u001b[0;36mpandas._libs.hashtable.PyObjectHashTable.get_item (pandas/_libs/hashtable.c:20477)\u001b[0;34m()\u001b[0m\n",
      "\u001b[0;31mKeyError\u001b[0m: 'system'",
      "\nDuring handling of the above exception, another exception occurred:\n",
      "\u001b[0;31mKeyError\u001b[0m                                  Traceback (most recent call last)",
      "\u001b[0;32m<ipython-input-91-9ff5d1001848>\u001b[0m in \u001b[0;36m<module>\u001b[0;34m()\u001b[0m\n\u001b[0;32m----> 1\u001b[0;31m \u001b[0mtmp2\u001b[0m\u001b[0;34m[\u001b[0m\u001b[0;34m'system'\u001b[0m\u001b[0;34m]\u001b[0m\u001b[0;34m[\u001b[0m\u001b[0;36m0\u001b[0m\u001b[0;34m]\u001b[0m\u001b[0;34m\u001b[0m\u001b[0m\n\u001b[0m",
      "\u001b[0;32m~/.local/lib/python3.5/site-packages/pandas/core/frame.py\u001b[0m in \u001b[0;36m__getitem__\u001b[0;34m(self, key)\u001b[0m\n\u001b[1;32m   1962\u001b[0m             \u001b[0;32mreturn\u001b[0m \u001b[0mself\u001b[0m\u001b[0;34m.\u001b[0m\u001b[0m_getitem_multilevel\u001b[0m\u001b[0;34m(\u001b[0m\u001b[0mkey\u001b[0m\u001b[0;34m)\u001b[0m\u001b[0;34m\u001b[0m\u001b[0m\n\u001b[1;32m   1963\u001b[0m         \u001b[0;32melse\u001b[0m\u001b[0;34m:\u001b[0m\u001b[0;34m\u001b[0m\u001b[0m\n\u001b[0;32m-> 1964\u001b[0;31m             \u001b[0;32mreturn\u001b[0m \u001b[0mself\u001b[0m\u001b[0;34m.\u001b[0m\u001b[0m_getitem_column\u001b[0m\u001b[0;34m(\u001b[0m\u001b[0mkey\u001b[0m\u001b[0;34m)\u001b[0m\u001b[0;34m\u001b[0m\u001b[0m\n\u001b[0m\u001b[1;32m   1965\u001b[0m \u001b[0;34m\u001b[0m\u001b[0m\n\u001b[1;32m   1966\u001b[0m     \u001b[0;32mdef\u001b[0m \u001b[0m_getitem_column\u001b[0m\u001b[0;34m(\u001b[0m\u001b[0mself\u001b[0m\u001b[0;34m,\u001b[0m \u001b[0mkey\u001b[0m\u001b[0;34m)\u001b[0m\u001b[0;34m:\u001b[0m\u001b[0;34m\u001b[0m\u001b[0m\n",
      "\u001b[0;32m~/.local/lib/python3.5/site-packages/pandas/core/frame.py\u001b[0m in \u001b[0;36m_getitem_column\u001b[0;34m(self, key)\u001b[0m\n\u001b[1;32m   1969\u001b[0m         \u001b[0;31m# get column\u001b[0m\u001b[0;34m\u001b[0m\u001b[0;34m\u001b[0m\u001b[0m\n\u001b[1;32m   1970\u001b[0m         \u001b[0;32mif\u001b[0m \u001b[0mself\u001b[0m\u001b[0;34m.\u001b[0m\u001b[0mcolumns\u001b[0m\u001b[0;34m.\u001b[0m\u001b[0mis_unique\u001b[0m\u001b[0;34m:\u001b[0m\u001b[0;34m\u001b[0m\u001b[0m\n\u001b[0;32m-> 1971\u001b[0;31m             \u001b[0;32mreturn\u001b[0m \u001b[0mself\u001b[0m\u001b[0;34m.\u001b[0m\u001b[0m_get_item_cache\u001b[0m\u001b[0;34m(\u001b[0m\u001b[0mkey\u001b[0m\u001b[0;34m)\u001b[0m\u001b[0;34m\u001b[0m\u001b[0m\n\u001b[0m\u001b[1;32m   1972\u001b[0m \u001b[0;34m\u001b[0m\u001b[0m\n\u001b[1;32m   1973\u001b[0m         \u001b[0;31m# duplicate columns & possible reduce dimensionality\u001b[0m\u001b[0;34m\u001b[0m\u001b[0;34m\u001b[0m\u001b[0m\n",
      "\u001b[0;32m~/.local/lib/python3.5/site-packages/pandas/core/generic.py\u001b[0m in \u001b[0;36m_get_item_cache\u001b[0;34m(self, item)\u001b[0m\n\u001b[1;32m   1643\u001b[0m         \u001b[0mres\u001b[0m \u001b[0;34m=\u001b[0m \u001b[0mcache\u001b[0m\u001b[0;34m.\u001b[0m\u001b[0mget\u001b[0m\u001b[0;34m(\u001b[0m\u001b[0mitem\u001b[0m\u001b[0;34m)\u001b[0m\u001b[0;34m\u001b[0m\u001b[0m\n\u001b[1;32m   1644\u001b[0m         \u001b[0;32mif\u001b[0m \u001b[0mres\u001b[0m \u001b[0;32mis\u001b[0m \u001b[0;32mNone\u001b[0m\u001b[0;34m:\u001b[0m\u001b[0;34m\u001b[0m\u001b[0m\n\u001b[0;32m-> 1645\u001b[0;31m             \u001b[0mvalues\u001b[0m \u001b[0;34m=\u001b[0m \u001b[0mself\u001b[0m\u001b[0;34m.\u001b[0m\u001b[0m_data\u001b[0m\u001b[0;34m.\u001b[0m\u001b[0mget\u001b[0m\u001b[0;34m(\u001b[0m\u001b[0mitem\u001b[0m\u001b[0;34m)\u001b[0m\u001b[0;34m\u001b[0m\u001b[0m\n\u001b[0m\u001b[1;32m   1646\u001b[0m             \u001b[0mres\u001b[0m \u001b[0;34m=\u001b[0m \u001b[0mself\u001b[0m\u001b[0;34m.\u001b[0m\u001b[0m_box_item_values\u001b[0m\u001b[0;34m(\u001b[0m\u001b[0mitem\u001b[0m\u001b[0;34m,\u001b[0m \u001b[0mvalues\u001b[0m\u001b[0;34m)\u001b[0m\u001b[0;34m\u001b[0m\u001b[0m\n\u001b[1;32m   1647\u001b[0m             \u001b[0mcache\u001b[0m\u001b[0;34m[\u001b[0m\u001b[0mitem\u001b[0m\u001b[0;34m]\u001b[0m \u001b[0;34m=\u001b[0m \u001b[0mres\u001b[0m\u001b[0;34m\u001b[0m\u001b[0m\n",
      "\u001b[0;32m~/.local/lib/python3.5/site-packages/pandas/core/internals.py\u001b[0m in \u001b[0;36mget\u001b[0;34m(self, item, fastpath)\u001b[0m\n\u001b[1;32m   3588\u001b[0m \u001b[0;34m\u001b[0m\u001b[0m\n\u001b[1;32m   3589\u001b[0m             \u001b[0;32mif\u001b[0m \u001b[0;32mnot\u001b[0m \u001b[0misnull\u001b[0m\u001b[0;34m(\u001b[0m\u001b[0mitem\u001b[0m\u001b[0;34m)\u001b[0m\u001b[0;34m:\u001b[0m\u001b[0;34m\u001b[0m\u001b[0m\n\u001b[0;32m-> 3590\u001b[0;31m                 \u001b[0mloc\u001b[0m \u001b[0;34m=\u001b[0m \u001b[0mself\u001b[0m\u001b[0;34m.\u001b[0m\u001b[0mitems\u001b[0m\u001b[0;34m.\u001b[0m\u001b[0mget_loc\u001b[0m\u001b[0;34m(\u001b[0m\u001b[0mitem\u001b[0m\u001b[0;34m)\u001b[0m\u001b[0;34m\u001b[0m\u001b[0m\n\u001b[0m\u001b[1;32m   3591\u001b[0m             \u001b[0;32melse\u001b[0m\u001b[0;34m:\u001b[0m\u001b[0;34m\u001b[0m\u001b[0m\n\u001b[1;32m   3592\u001b[0m                 \u001b[0mindexer\u001b[0m \u001b[0;34m=\u001b[0m \u001b[0mnp\u001b[0m\u001b[0;34m.\u001b[0m\u001b[0marange\u001b[0m\u001b[0;34m(\u001b[0m\u001b[0mlen\u001b[0m\u001b[0;34m(\u001b[0m\u001b[0mself\u001b[0m\u001b[0;34m.\u001b[0m\u001b[0mitems\u001b[0m\u001b[0;34m)\u001b[0m\u001b[0;34m)\u001b[0m\u001b[0;34m[\u001b[0m\u001b[0misnull\u001b[0m\u001b[0;34m(\u001b[0m\u001b[0mself\u001b[0m\u001b[0;34m.\u001b[0m\u001b[0mitems\u001b[0m\u001b[0;34m)\u001b[0m\u001b[0;34m]\u001b[0m\u001b[0;34m\u001b[0m\u001b[0m\n",
      "\u001b[0;32m~/.local/lib/python3.5/site-packages/pandas/core/indexes/base.py\u001b[0m in \u001b[0;36mget_loc\u001b[0;34m(self, key, method, tolerance)\u001b[0m\n\u001b[1;32m   2442\u001b[0m                 \u001b[0;32mreturn\u001b[0m \u001b[0mself\u001b[0m\u001b[0;34m.\u001b[0m\u001b[0m_engine\u001b[0m\u001b[0;34m.\u001b[0m\u001b[0mget_loc\u001b[0m\u001b[0;34m(\u001b[0m\u001b[0mkey\u001b[0m\u001b[0;34m)\u001b[0m\u001b[0;34m\u001b[0m\u001b[0m\n\u001b[1;32m   2443\u001b[0m             \u001b[0;32mexcept\u001b[0m \u001b[0mKeyError\u001b[0m\u001b[0;34m:\u001b[0m\u001b[0;34m\u001b[0m\u001b[0m\n\u001b[0;32m-> 2444\u001b[0;31m                 \u001b[0;32mreturn\u001b[0m \u001b[0mself\u001b[0m\u001b[0;34m.\u001b[0m\u001b[0m_engine\u001b[0m\u001b[0;34m.\u001b[0m\u001b[0mget_loc\u001b[0m\u001b[0;34m(\u001b[0m\u001b[0mself\u001b[0m\u001b[0;34m.\u001b[0m\u001b[0m_maybe_cast_indexer\u001b[0m\u001b[0;34m(\u001b[0m\u001b[0mkey\u001b[0m\u001b[0;34m)\u001b[0m\u001b[0;34m)\u001b[0m\u001b[0;34m\u001b[0m\u001b[0m\n\u001b[0m\u001b[1;32m   2445\u001b[0m \u001b[0;34m\u001b[0m\u001b[0m\n\u001b[1;32m   2446\u001b[0m         \u001b[0mindexer\u001b[0m \u001b[0;34m=\u001b[0m \u001b[0mself\u001b[0m\u001b[0;34m.\u001b[0m\u001b[0mget_indexer\u001b[0m\u001b[0;34m(\u001b[0m\u001b[0;34m[\u001b[0m\u001b[0mkey\u001b[0m\u001b[0;34m]\u001b[0m\u001b[0;34m,\u001b[0m \u001b[0mmethod\u001b[0m\u001b[0;34m=\u001b[0m\u001b[0mmethod\u001b[0m\u001b[0;34m,\u001b[0m \u001b[0mtolerance\u001b[0m\u001b[0;34m=\u001b[0m\u001b[0mtolerance\u001b[0m\u001b[0;34m)\u001b[0m\u001b[0;34m\u001b[0m\u001b[0m\n",
      "\u001b[0;32mpandas/_libs/index.pyx\u001b[0m in \u001b[0;36mpandas._libs.index.IndexEngine.get_loc (pandas/_libs/index.c:5280)\u001b[0;34m()\u001b[0m\n",
      "\u001b[0;32mpandas/_libs/index.pyx\u001b[0m in \u001b[0;36mpandas._libs.index.IndexEngine.get_loc (pandas/_libs/index.c:5126)\u001b[0;34m()\u001b[0m\n",
      "\u001b[0;32mpandas/_libs/hashtable_class_helper.pxi\u001b[0m in \u001b[0;36mpandas._libs.hashtable.PyObjectHashTable.get_item (pandas/_libs/hashtable.c:20523)\u001b[0;34m()\u001b[0m\n",
      "\u001b[0;32mpandas/_libs/hashtable_class_helper.pxi\u001b[0m in \u001b[0;36mpandas._libs.hashtable.PyObjectHashTable.get_item (pandas/_libs/hashtable.c:20477)\u001b[0;34m()\u001b[0m\n",
      "\u001b[0;31mKeyError\u001b[0m: 'system'"
     ]
    }
   ],
   "source": [
    "tmp2['system'][0]"
   ]
  }
 ],
 "metadata": {
  "kernelspec": {
   "display_name": "Python 3",
   "language": "python",
   "name": "python3"
  },
  "language_info": {
   "codemirror_mode": {
    "name": "ipython",
    "version": 3
   },
   "file_extension": ".py",
   "mimetype": "text/x-python",
   "name": "python",
   "nbconvert_exporter": "python",
   "pygments_lexer": "ipython3",
   "version": "3.5.2"
  }
 },
 "nbformat": 4,
 "nbformat_minor": 2
}
